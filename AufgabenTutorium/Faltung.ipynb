{
 "cells": [
  {
   "cell_type": "markdown",
   "metadata": {},
   "source": [
    "<h1>Faltung</h1>"
   ]
  },
  {
   "cell_type": "markdown",
   "metadata": {},
   "source": [
    "Brechnet das Faltungsergebnis von [9,8,1] und [3,5,6,9]. Erstellt dazu ambesten einen Rechner der den Lösungsweg mit ausgibt."
   ]
  },
  {
   "cell_type": "code",
   "execution_count": null,
   "metadata": {},
   "outputs": [],
   "source": []
  },
  {
   "cell_type": "markdown",
   "metadata": {},
   "source": [
    "Gefaltet werden die Folgen [5,2,8,9,4,2,6,8] und [2,6,8,9,0,4,2,5,6,9,6] Wie lang ist die Ausgangsfolge?"
   ]
  },
  {
   "cell_type": "code",
   "execution_count": null,
   "metadata": {},
   "outputs": [],
   "source": []
  },
  {
   "cell_type": "markdown",
   "metadata": {},
   "source": [
    "Ein lineares, zeitinvariantes System wird mit der Folge [4,3,3,10,9,6] angeregt und antwortet mit [4,13,20,27,30,40,36,27,20,13,10].\n",
    "\n",
    "Wie lang ist die Stoßantwort des Systems?"
   ]
  },
  {
   "cell_type": "code",
   "execution_count": null,
   "metadata": {},
   "outputs": [],
   "source": []
  },
  {
   "cell_type": "markdown",
   "metadata": {},
   "source": [
    "Berechnet das Ergebnis,wenn dieses System zweimal unmittelbar hintereinander mit der gegebenen Anregungsfolge angeregt wird!"
   ]
  },
  {
   "cell_type": "code",
   "execution_count": null,
   "metadata": {},
   "outputs": [],
   "source": []
  }
 ],
 "metadata": {
  "language_info": {
   "name": "python"
  }
 },
 "nbformat": 4,
 "nbformat_minor": 2
}
