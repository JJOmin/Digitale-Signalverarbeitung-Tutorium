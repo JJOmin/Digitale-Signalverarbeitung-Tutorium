{
 "cells": [
  {
   "cell_type": "markdown",
   "metadata": {},
   "source": [
    "Praktikum Digitale Signalverarbeitung\n",
    "=====================================\n",
    "\n",
    "**Author:** Prof. Dr.-Ing. Johann-Markus Batke\n",
    "\n",
    "**Date:** SS 2024\n",
    "\n"
   ]
  },
  {
   "cell_type": "markdown",
   "metadata": {},
   "source": [
    "## Organisatorisches\n",
    "\n"
   ]
  },
  {
   "cell_type": "markdown",
   "metadata": {},
   "source": [
    "Einige Anmerkungen zum reibungslosen Ablauf des Praktikums:\n",
    "\n",
    "-   Geben Sie Ihr Notebook **vollständig** ab, d.h. es sind\n",
    "    Vorbereitungsaufgaben und Praktikumsaufgaben im Notebook enthalten.\n",
    "\n",
    "-   Nutzen Sie die Markdown-Zellen zur Dokumentation Ihrer Lösungen.\n",
    "\n",
    "-   Sollten Sie vor Ablauf von Termin 4 fertig sein, zeigen Sie **vor**\n",
    "    Abgabe einem der Betreuer Ihre Lösung. Ist alles in Ordnung, können\n",
    "    Sie früher gehen.\n",
    "\n"
   ]
  },
  {
   "cell_type": "markdown",
   "metadata": {},
   "source": [
    "## Vorbereitung\n",
    "\n"
   ]
  },
  {
   "cell_type": "markdown",
   "metadata": {},
   "source": [
    "Die Vorbereitung muss zu Beginn des Praktikums erfolgt sein, damit eine flüssige Bearbeitung der Aufgaben während des Praktikums gewährleistet ist.  Die Ergebnisse der Vorbereitung in diesem Versuch sind in der Lösung mit abzugeben!\n",
    "\n"
   ]
  },
  {
   "cell_type": "markdown",
   "metadata": {},
   "source": [
    "### Numpy-Sprachelemente\n",
    "\n"
   ]
  },
  {
   "cell_type": "markdown",
   "metadata": {},
   "source": [
    "1.  Vergegenwärtigen Sie sich die Funktion der Numpy-array-Methoden `shape`, `reshape`, `ndim`, `size`.\n",
    "\n",
    "2.  Welche Ausgabe ergibt folgender Programmtext? Was bedeuten die ausgegebenen Werte?\n",
    "\n"
   ]
  },
  {
   "cell_type": "code",
   "execution_count": 1,
   "metadata": {},
   "outputs": [],
   "source": [
    "import numpy as np"
   ]
  },
  {
   "cell_type": "code",
   "execution_count": 1,
   "metadata": {},
   "outputs": [],
   "source": [
    "a = np.ones([3, 2, 2])\n",
    "print(a.size)\n",
    "print(a.shape)\n",
    "print(a.ndim)"
   ]
  },
  {
   "cell_type": "markdown",
   "metadata": {},
   "source": [
    "1.  Analysieren Sie die Ausgabe dieses Beispiels.  Welche Dimension hat `c`?\n",
    "\n"
   ]
  },
  {
   "cell_type": "code",
   "execution_count": 1,
   "metadata": {},
   "outputs": [],
   "source": [
    "A = np.ones([3, 3])\n",
    "b = np.ones([3,1])\n",
    "c = A @ b\n",
    "print(c)"
   ]
  },
  {
   "cell_type": "markdown",
   "metadata": {},
   "source": [
    "Dieser Versuch beschäftigt sich mit Methoden der linearen Algebra (also Rechnen mit Vektoren und Matrizen).  Erklären Sie diesbezüglich die Begriffe \"elementweise Multiplikation\", \"Matrixmultiplikation\", \"inneres Produkt\", \"äußeres Produkt\", \"Skalarprodukt\" und \"Kreuzprodukt\"!\n",
    "\n"
   ]
  },
  {
   "cell_type": "markdown",
   "metadata": {},
   "source": [
    "### Berechnung einer Summe per Schleife\n",
    "\n"
   ]
  },
  {
   "cell_type": "markdown",
   "metadata": {},
   "source": [
    "Die Berechnungsvorschrift \n",
    "\n",
    "s =$\\sum\\limits_{i=1}^{3}$ $a_i *b_i$\n",
    "\n",
    "ergibt einen skalaren Wert $s$, viele Zusammenhänge der Signalverarbeitung werden über diese Summenschreibweise dargestellt. Zur Berechnung einer solchen Summe wird häufig eine Schleife programmiert.  Die Koeffizienten $a_i$ und $b_i$ lassen sich aber auch als Vektorelemente auffassen, damit lässt sich die Berechnung durch die lineare Algebra formulieren.\n",
    "\n",
    "Verwenden Sie die Defintion der Variablen $\\vec a$ und $\\vec b$ der Form\n",
    "\n"
   ]
  },
  {
   "cell_type": "code",
   "execution_count": 1,
   "metadata": {},
   "outputs": [],
   "source": [
    "a_N = np.arange(3) + 1\n",
    "b_N = np.arange(3) + 2"
   ]
  },
  {
   "cell_type": "markdown",
   "metadata": {},
   "source": [
    "und programmieren Sie die Berechnung für das Ergebnis $s$ wie oben angegeben per Schleife!\n",
    "\n"
   ]
  },
  {
   "cell_type": "markdown",
   "metadata": {},
   "source": [
    "### Vektorielle Berechnung einer Summengleichung\n",
    "\n"
   ]
  },
  {
   "cell_type": "markdown",
   "metadata": {},
   "source": [
    "Das innere Produkt zweier Vektoren $\\vec a$ und $\\vec b$ mit z.B. je 3 Elementen lautet:\n",
    "$$\n",
    "\\vec{a} \\cdot \\vec{b}^T = \n",
    "\\begin{pmatrix}\n",
    "  a_1 & a_2 & a_3\n",
    "\\end{pmatrix}\n",
    "\\cdot\n",
    "\\begin{pmatrix}\n",
    "  b_1 \\\\\n",
    "  b_2 \\\\\n",
    "  b_3\n",
    "\\end{pmatrix}\n",
    "= a_1 b_1 + a_2 b_2 + a_3 b_3 = s\n",
    "$$\n",
    "\n",
    "\n",
    "\n",
    "Die Umsetzung einer solchen Operation wird durch *numpy* als Vektorprodukt realisierbar, ohne das eine Schleife implementiert werden muss.\n",
    "\n",
    "Verwenden Sie die Definition von $\\vec a$ und $\\vec b$ wie oben angegeben und berechnen Sie das Ergebnis $s$ per Vektorprodukt!\n",
    "\n"
   ]
  },
  {
   "cell_type": "markdown",
   "metadata": {},
   "source": [
    "### Zeitmessung\n",
    "\n"
   ]
  },
  {
   "cell_type": "markdown",
   "metadata": {},
   "source": [
    "Um die Verarbeitungszeit in Python messen zu können, kann das Modul `time` verwendet werden. Folgendes Code-Beispiel verdeutlicht den Zusammenhang.\n",
    "\n"
   ]
  },
  {
   "cell_type": "code",
   "execution_count": 1,
   "metadata": {},
   "outputs": [
    {
     "name": "stdout",
     "output_type": "stream",
     "text": [
      "Die Schlafenszeit beträgt 2.002582550048828 Sekunden"
     ]
    }
   ],
   "source": [
    "import time \n",
    "tic = time.time()\n",
    "time.sleep(2)\n",
    "toc = time.time()\n",
    "print(\"Die Schlafenszeit beträgt \" + str(toc-tic) + \" Sekunden\")"
   ]
  },
  {
   "cell_type": "markdown",
   "metadata": {},
   "source": [
    "Lassen Sie den Rechner nur noch eine Sekunde schlafen und modifizieren entsprechend den Quelltext!\n",
    "\n"
   ]
  },
  {
   "cell_type": "markdown",
   "metadata": {},
   "source": [
    "## Praktikum\n",
    "\n"
   ]
  },
  {
   "cell_type": "markdown",
   "metadata": {},
   "source": [
    "In diesem Praktikum soll die Berechnung der DFT direkt bzw. mittels Matrix-Algebra in Python untersucht werden.\n",
    "\n"
   ]
  },
  {
   "cell_type": "markdown",
   "metadata": {},
   "source": [
    "### Berechnung per Schleife\n",
    "\n"
   ]
  },
  {
   "cell_type": "markdown",
   "metadata": {},
   "source": [
    "Die Definition der DFT lauten für eine periodische Folge $x[n]$ mit $n = 0\\ldots N-1$ für die Rücktransformation\n",
    "\n",
    "$$\n",
    "\\begin{equation}\n",
    "x[n] = \\frac{1}{N} \\sum_{k=0}^{N-1} X[k] \\, e^{j \\frac{2\\pi}{N} k n}\n",
    "\\end{equation}\n",
    "$$\n",
    "\n",
    "wobei die DFT-Koeffizienten $X[k]$ bzgl. der Frequenzen $k$ mit $k = 0\\ldots N-1$ nach\n",
    "\n",
    "$$\n",
    "\\begin{equation}\n",
    "X[k] = \\sum_{n=0}^{N-1} x[n] \\, e^{-j \\frac{2\\pi}{N} k n}\n",
    "\\end{equation}\n",
    "$$\n",
    "\n",
    "\n",
    "berechnet werden können. Diese Gleichung bezeichnet man auch als Hintransformation.  Das Zeitsignal $x[n]$ ist periodisch, die Grundfrequenz des Signals beträgt $\\frac{1}{N}$; d.h. die Periode einer Schwingung enthält $N$ Abtastwerte.  Schreiben Sie eine Python-Funktion `X = dft_schleife(x)`, die zum Vektor `x` die DFT-Koeffizienten `X` berechnet!\n",
    "\n",
    "Beachten Sie dabei:\n",
    "\n",
    "-   als Implementierung soll eine `for`-Schleife verwendet werden;\n",
    "-   die Ordnung $N$ soll aus der Länge des Eingangsvektors bestimmt werden.\n",
    "\n"
   ]
  },
  {
   "cell_type": "markdown",
   "metadata": {},
   "source": [
    "### Berechnung per Matrix\n",
    "\n"
   ]
  },
  {
   "cell_type": "markdown",
   "metadata": {},
   "source": [
    "Die Implementierung der DFT Hin- und Rücktransformation ist in Numpy einfach durch Bildung eines inneren Vektorprodukts umzusetzen. (Weitere Informationen zur Umsetzung finden sie im Buch Martin Werner (2012) \"Digitale Signalverarbeitung mit MATLAB®\", Springer Science + Business Media.)\n",
    "\n",
    "Die Implementierung der DFT in diesem Versuch soll in der Form\n",
    "\n",
    "$$\n",
    "\\begin{equation}\n",
    "\\vec{W} \\, \\vec{x} = \\vec{X}\n",
    "\\end{equation}\n",
    "$$\n",
    "\n",
    "\n",
    "erfolgen, wobei ein $\\vec W$ eine Matrix mit den Exponentialfunktionswerten $\\mathrm e^{-\\mathrm j 2\\pi/N n k}$ mit $N$ Zeilen und $N$ Spalten darstellt und $\\vec x$ die zu transformierende Folge $x(n)$ mit $n = 0\\ldots N-1$ enthält.\n",
    "\n",
    "Programmieren Sie alternativ eine Funktion `X = dft_vektor(x)` wobei die Berechnung wie oben dargestellt per Vektorprodukt vollzogen wird. Sie verwenden also keine `for`-Schleife, sondern die Exponentialfunktionswerte in einer Matrix wie in Gleichung [1](#org56ec6c1).\n",
    "\n"
   ]
  },
  {
   "cell_type": "markdown",
   "metadata": {},
   "source": [
    "### Berechnung der DFT\n",
    "\n"
   ]
  },
  {
   "cell_type": "markdown",
   "metadata": {},
   "source": [
    "Erzeugen Sie eine cos-Folge mit der normierten Kreisfrequenz $\\Omega_0 = \\frac{4\\pi}{N}$ für $N = 32$ Abtastpunkte $n = 0\\ldots 31$.\n",
    "\n",
    "1.  Stellen Sie diese Folge mit dem Befehl `stem` dar.\n",
    "\n",
    "2.  Berechnen Sie die DFT und stellen Sie das Ergebnis mit Real- und\n",
    "    Imaginärteil bzw. mit Betrag und Phase dar.  Verwenden Sie zur\n",
    "    Berechnung der DFT die Befehle\n",
    "    \n",
    "    -   `dft_schleife`\n",
    "    -   `dft_vektor`\n",
    "    -   `np.fft.fft`\n",
    "    \n",
    "    Vergleichen Sie die Ergebnisse!\n",
    "\n",
    "3.  Testen Sie die Performance Ihrer Implementierungen durch Messung\n",
    "    der Verarbeitungszeit! Vergleichen Sie diese mit der\n",
    "    Verarbeitungszeit der fft aus numpy!\n",
    "\n"
   ]
  },
  {
   "cell_type": "markdown",
   "metadata": {},
   "source": [
    "## Python-Befehle\n",
    "\n"
   ]
  },
  {
   "cell_type": "markdown",
   "metadata": {},
   "source": [
    "Alle relevanten Python-Befehle für diesen Versuch finden Sie im Arbeitsblatt [Numerical Python (numpy)](../../../WuK/numpy/numpy.md) im Moodle.\n",
    "\n",
    "| mathematische Funktionen aus <code>import numpy as np</code>|<code>exp, real, imag, abs, angle</code>|\n",
    "| array-Methoden|<code>length, numel, size, reshape</code>|\n",
    "| Grafik aus <code>import matplotlib as plt</code>|<code>plot, stem, subplot, xlabel, ylabel</code>|\n",
    "\n"
   ]
  }
 ],
 "metadata": {
  "kernelspec": {
   "display_name": "Python 3 (ipykernel)",
   "language": "python",
   "name": "python3"
  },
  "language_info": {
   "codemirror_mode": {
    "name": "ipython",
    "version": 3
   },
   "file_extension": ".py",
   "mimetype": "text/x-python",
   "name": "python",
   "nbconvert_exporter": "python",
   "pygments_lexer": "ipython3",
   "version": "3.10.13"
  },
  "org": null
 },
 "nbformat": 4,
 "nbformat_minor": 4
}
