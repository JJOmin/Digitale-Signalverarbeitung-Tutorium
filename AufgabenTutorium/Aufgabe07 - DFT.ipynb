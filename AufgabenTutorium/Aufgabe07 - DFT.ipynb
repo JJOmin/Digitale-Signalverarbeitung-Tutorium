{
 "cells": [
  {
   "cell_type": "markdown",
   "metadata": {},
   "source": [
    "<h4>Berechnung einer Summe per Schleife</h4>\n",
    "Die Berechnungsvorschrift\n",
    "\n",
    "\n",
    "s =$\\sum\\limits_{i=1}^{3}$ $a_i *b_i$\n",
    "\n",
    "ergibt einen skalaren Wert s, viele Zusammenhänge der Signalverarbeitung werden über diese Summenschreibweise dargestellt. \n",
    "\n",
    "Zur Berechnung einer solchen Summe wird häufig eine Schleife programmiert. Die Koeffizienten $a_i$ und $b_i$ lassen sich aber auch als Vektorelemente\n",
    "auffassen, damit lässt sich die Berechnung durch die lineare Algebra formulieren.\n",
    "\n",
    "Verwendet die Defintion der Variablen a und b der Form und programmiert die Berechnung für das Ergebnis s wie oben angegeben per Schleife!"
   ]
  },
  {
   "cell_type": "code",
   "execution_count": null,
   "metadata": {},
   "outputs": [],
   "source": []
  },
  {
   "cell_type": "markdown",
   "metadata": {},
   "source": [
    "<h4>Vektorielle Berechnung einer Summengleichung</h4>\n",
    "Mit hilfe welches Produktes kann man die Summe(Die von oben) berechen und wie Würde man das in Python machen."
   ]
  },
  {
   "cell_type": "code",
   "execution_count": null,
   "metadata": {},
   "outputs": [],
   "source": []
  },
  {
   "cell_type": "markdown",
   "metadata": {},
   "source": [
    "<h4>Plottet einen Sinus mit der Grundfrequenz 50 Hz in einem Wertebereich von 0 bis 50.</h4>"
   ]
  },
  {
   "cell_type": "code",
   "execution_count": null,
   "metadata": {},
   "outputs": [],
   "source": []
  },
  {
   "cell_type": "markdown",
   "metadata": {},
   "source": [
    "<h4>Plottet einen Rechtecksignal mit der Länge 5 in eimen Wertebereich von 0 bis 12.</h4>"
   ]
  },
  {
   "cell_type": "code",
   "execution_count": null,
   "metadata": {},
   "outputs": [],
   "source": []
  },
  {
   "cell_type": "markdown",
   "metadata": {},
   "source": [
    "<h4>Wie kann man eine DFT mithilfe einer Schleife umsetzten? </h4>\n",
    "\n",
    "Die Gleichungen der DFT lauten für eine periodische Folge x[n]\n",
    "\n",
    "x[n] = $\\frac{1}{N}\\sum\\limits_{k=0}^{N-1}$ $X[k]e^{j2π/N*k*n}$\n",
    "\n",
    "wobei die DFT-Koeffizienten X[k] bzgl. der Frequenzen k mit k = 0 ... N − 1 nach\n",
    "\n",
    "X[k] = $\\sum\\limits_{n=0}^{N-1}$ $x[n]e^{−j2π/N*k*n}$"
   ]
  },
  {
   "cell_type": "code",
   "execution_count": null,
   "metadata": {},
   "outputs": [],
   "source": []
  },
  {
   "cell_type": "markdown",
   "metadata": {},
   "source": [
    "<h4>Wie kann man eine DFT mithilfe einer Matrix umsetzten? </h4>\n",
    "\n",
    "\n",
    "Wx = X \n",
    "\n",
    "erfolgen, wobei ein W eine Matrix mit den Exponentialfunktionswerten $e^{−j2π/N*k*n}$ mit N Zeilen und N Spalten darstellt und x die zu transformierende Folge x(n) mit n = 0 ... N−1 enthält."
   ]
  },
  {
   "cell_type": "code",
   "execution_count": null,
   "metadata": {},
   "outputs": [],
   "source": []
  }
 ],
 "metadata": {
  "language_info": {
   "name": "python"
  }
 },
 "nbformat": 4,
 "nbformat_minor": 2
}
