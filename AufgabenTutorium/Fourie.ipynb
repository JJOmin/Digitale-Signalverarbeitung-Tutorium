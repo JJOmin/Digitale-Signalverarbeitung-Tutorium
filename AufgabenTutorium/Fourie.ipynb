{
 "cells": [
  {
   "cell_type": "markdown",
   "metadata": {},
   "source": [
    "<h1>Fourie"
   ]
  },
  {
   "cell_type": "markdown",
   "metadata": {},
   "source": [
    "\n",
    "Gegeben sei folgendes Spektrum X [k ] eines Tons: Gegeben sei folgendes reellwertiges Spektrum X [k ]:\n",
    "\n",
    "\n",
    "\n",
    "![Alt Text](Bildschirmfoto2024-04-23um12.36.50.png)\n",
    "\n",
    "\n",
    "Gebt die Ordnung N der DFT an!\n",
    "\n",
    "Bestimmt den Gleichanteil!\n",
    "\n",
    "Bestimmt die Grundfrequenz f0 der Schwingung, wenn die Abtastrate fs = 8000 Abtastwerte/s ist!\n",
    "\n",
    "Gebt die Zeitfunktion x[n] an und skizziert den Funktionsgraphen! \n",
    "\n",
    "Hinweis:der Gleichanteil im Zeitbereich ist X [0]/N ."
   ]
  },
  {
   "cell_type": "code",
   "execution_count": null,
   "metadata": {},
   "outputs": [],
   "source": []
  }
 ],
 "metadata": {
  "language_info": {
   "name": "python"
  }
 },
 "nbformat": 4,
 "nbformat_minor": 2
}
