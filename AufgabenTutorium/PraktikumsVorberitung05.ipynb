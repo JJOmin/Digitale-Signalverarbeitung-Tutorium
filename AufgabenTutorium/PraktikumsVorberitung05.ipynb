{
 "cells": [
  {
   "cell_type": "markdown",
   "metadata": {},
   "source": [
    "<h1> Ein bichen Praktikumsvorberitung</h1>"
   ]
  },
  {
   "cell_type": "markdown",
   "metadata": {},
   "source": [
    "Es wird eine Schnelle Faltung mit $N=1024$ Punkten berechnet. Die\n",
    "Längen der gefalteten Folgen sind $L = 600$ Punkte und $P=500$\n",
    "Punkte. Wieviele Punkte des Faltungsergebnisses entsprechen der\n",
    "linearen Faltung?"
   ]
  },
  {
   "cell_type": "code",
   "execution_count": null,
   "metadata": {},
   "outputs": [],
   "source": []
  },
  {
   "cell_type": "markdown",
   "metadata": {},
   "source": [
    "Sucht euch eine schon mal fürs Praktikum eine RIA Wav-Datei.\n",
    "Und Plottet diese Normiert."
   ]
  },
  {
   "cell_type": "code",
   "execution_count": null,
   "metadata": {},
   "outputs": [],
   "source": []
  },
  {
   "cell_type": "markdown",
   "metadata": {},
   "source": [
    "Wie kann man überprüfen ob die Sampelrats zweier Wav-Dateien übereinstimmen und falls nicht mit was kann man das angleichen?(geht auch ohne Programieren)"
   ]
  },
  {
   "cell_type": "code",
   "execution_count": null,
   "metadata": {},
   "outputs": [],
   "source": []
  },
  {
   "cell_type": "markdown",
   "metadata": {},
   "source": [
    "Falltet die Folgen [3,5,8,4,6] und [5,6,8,3,2]."
   ]
  },
  {
   "cell_type": "code",
   "execution_count": null,
   "metadata": {},
   "outputs": [],
   "source": []
  }
 ],
 "metadata": {
  "language_info": {
   "name": "python"
  }
 },
 "nbformat": 4,
 "nbformat_minor": 2
}
