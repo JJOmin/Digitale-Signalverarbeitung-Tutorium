{
 "cells": [
  {
   "cell_type": "markdown",
   "metadata": {},
   "source": [
    "# Synthese von Elementarsignalen ... und alles in Python\n",
    "<br>\n",
    "\n",
    "## [Sprungfunktion](https://de.wikipedia.org/wiki/Heaviside-Funktion)\n",
    "\n",
    "1. Plotte einen einfachen Sprung für Wertebereich von -5 bis 5 , also wenn x[n] = σ[n]\n",
    "    - Hinweis: np.heavside & np.arange werden für die berechnung benötigt"
   ]
  },
  {
   "cell_type": "code",
   "execution_count": 1,
   "metadata": {},
   "outputs": [],
   "source": [
    "import numpy as np\n",
    "import matplotlib.pyplot as plt\n"
   ]
  },
  {
   "cell_type": "markdown",
   "metadata": {},
   "source": [
    "2. Plotte 2 Sprünge im Wertebereich -5 bis 5,\n",
    "- Einer der um 2 nach rechts verschoben ist\n",
    "- Einer der um 3 nach links verschoben ist"
   ]
  },
  {
   "cell_type": "code",
   "execution_count": 2,
   "metadata": {},
   "outputs": [],
   "source": [
    "\n"
   ]
  },
  {
   "cell_type": "markdown",
   "metadata": {},
   "source": [
    "## [Dirac-Funktion/Impuls](https://de.wikipedia.org/wiki/Delta-Distribution)"
   ]
  },
  {
   "cell_type": "markdown",
   "metadata": {},
   "source": [
    "- Elementarsignale - Plotte einen Standardimpuls für Wertebereich von -5 bis 5  x4[n] = δ[n]"
   ]
  },
  {
   "cell_type": "code",
   "execution_count": null,
   "metadata": {},
   "outputs": [],
   "source": []
  },
  {
   "cell_type": "markdown",
   "metadata": {},
   "source": [
    "- Plotte <b>x5[n] = 5δ[n + 1] + 5</b> für Wertebereich von -5 bis 5  "
   ]
  },
  {
   "cell_type": "code",
   "execution_count": null,
   "metadata": {},
   "outputs": [],
   "source": []
  },
  {
   "cell_type": "markdown",
   "metadata": {},
   "source": [
    "## Signalsynthese von Sprung & Sprung"
   ]
  },
  {
   "cell_type": "markdown",
   "metadata": {},
   "source": [
    "- Plotte <b>x6 = 3σ[n-3] + 2σ[n+3]</b> für Wertebereich von -5 bis 5  "
   ]
  },
  {
   "cell_type": "code",
   "execution_count": null,
   "metadata": {},
   "outputs": [],
   "source": []
  },
  {
   "cell_type": "markdown",
   "metadata": {},
   "source": [
    "## Signalsynthese von Dirac & Dirac"
   ]
  },
  {
   "cell_type": "markdown",
   "metadata": {},
   "source": [
    "- Plotte x7 = -3*δ[n + 2] + 2*σ[n-3] für -5 bis 5"
   ]
  },
  {
   "cell_type": "code",
   "execution_count": null,
   "metadata": {},
   "outputs": [],
   "source": []
  },
  {
   "cell_type": "markdown",
   "metadata": {},
   "source": [
    "## Signalsynthese von Sprung & Dirac"
   ]
  },
  {
   "cell_type": "markdown",
   "metadata": {},
   "source": [
    "- Plotte x8 = δ[n - 8] + σ[n-3] für -10 bis 10"
   ]
  },
  {
   "cell_type": "code",
   "execution_count": null,
   "metadata": {},
   "outputs": [],
   "source": []
  }
 ],
 "metadata": {
  "kernelspec": {
   "display_name": "base",
   "language": "python",
   "name": "python3"
  },
  "language_info": {
   "codemirror_mode": {
    "name": "ipython",
    "version": 3
   },
   "file_extension": ".py",
   "mimetype": "text/x-python",
   "name": "python",
   "nbconvert_exporter": "python",
   "pygments_lexer": "ipython3",
   "version": "3.10.9"
  }
 },
 "nbformat": 4,
 "nbformat_minor": 2
}
