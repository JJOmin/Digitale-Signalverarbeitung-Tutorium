{
 "cells": [
  {
   "cell_type": "markdown",
   "metadata": {},
   "source": [
    " **Vektoralgebra Aufgaben**\n",
    "\n",
    "1. **Elementweise Multiplikation**: Bei der elementweisen Multiplikation werden die entsprechenden Elemente der Arrays paarweise multipliziert. \n",
    "\n",
    "   Wie kann folgender Code an den Stellen <1> und <2> ergänzt werden?\n",
    "\n",
    "   ```python\n",
    "   import numpy as np\n",
    "   \n",
    "   array1 = np.array([0, 1, 3])\n",
    "   array2 = np.array([5, 8, 11, 4])\n",
    "   \n",
    "   elementwise_product = array1 \"<1>\" array2[\"<2>\"] \n",
    "   print(elementwise_product)  # Ausgabe: [0, 8, 33]\n",
    "   ```"
   ]
  },
  {
   "cell_type": "code",
   "execution_count": 14,
   "metadata": {},
   "outputs": [
    {
     "name": "stdout",
     "output_type": "stream",
     "text": [
      "[ 0  8 33]\n"
     ]
    }
   ],
   "source": [
    "import numpy as np\n",
    "\n",
    "array1 = np.array([0, 1, 3])\n",
    "array2 = np.array([5, 8, 11, 4])\n",
    "\n",
    "elementwise_product = array1 * array2[:len(array1)] #Wichtig, da sonst ein element zu wenig zum verrechnen :3 geht auch\n",
    "print(elementwise_product)  # Ausgabe: [0, 8, 33]"
   ]
  },
  {
   "cell_type": "markdown",
   "metadata": {},
   "source": [
    "2. **Matrixmultiplikation**:\n",
    "   Bei der Matrixmultiplikation wird das Skalarprodukt der Zeilen der ersten Matrix und der Spalten der zweiten Matrix berechnet.\n",
    "\n",
    "   Wie kann folgender Code an den Stellen <1>, <2> und <3> ergänzt werden?\n",
    "\n",
    "   ```python\n",
    "   import numpy as np\n",
    "   \n",
    "   matrix1 = np.array([[0, 1, 3]])\n",
    "   matrix2 = np.array([5, 8, 11]).reshape(\"<1>\",\"<2>\")\n",
    "   \n",
    "   print(matrix1 \"<3>\" matrix2) # Ausgabe: [[41]]\n",
    "   ```"
   ]
  },
  {
   "cell_type": "code",
   "execution_count": null,
   "metadata": {},
   "outputs": [],
   "source": []
  },
  {
   "cell_type": "markdown",
   "metadata": {},
   "source": [
    "3. **Inneres Produkt (Skalarprodukt)**:\n",
    "   Das innere Produkt ist die Summe der Produkte der entsprechenden Elemente der Vektoren.\n",
    "\n",
    "   Nenne 2 Möglichkeiten ein **Skalarprodukt** in Python zu berechnen."
   ]
  },
  {
   "cell_type": "code",
   "execution_count": null,
   "metadata": {},
   "outputs": [],
   "source": [
    "np.inner(,)\n",
    "np.dot()\n",
    "array @ array"
   ]
  },
  {
   "cell_type": "markdown",
   "metadata": {},
   "source": [
    "4. **Äußeres Produkt**: Beschreibe kurz was das **Äußeres Produkt** ist und wie es berechnet wird. Gerne an einem Beispiel :D\n"
   ]
  },
  {
   "cell_type": "code",
   "execution_count": null,
   "metadata": {},
   "outputs": [],
   "source": []
  },
  {
   "cell_type": "markdown",
   "metadata": {},
   "source": [
    "5. **Skalarprodukt**: \n",
    "\n",
    "   Nenne eine 3. Möglichkeit das innere Produkt zu Berechnen."
   ]
  },
  {
   "cell_type": "code",
   "execution_count": null,
   "metadata": {},
   "outputs": [],
   "source": []
  },
  {
   "cell_type": "markdown",
   "metadata": {},
   "source": [
    "6. **Kreuzprodukt**:\n",
    "   Das Kreuzprodukt ist eine Operation, die für Vektoren im dreidimensionalen Raum definiert ist und einen Vektor ergibt, der senkrecht zu den Ausgangsvektoren steht.\n",
    "\n",
    "   Stelle die Rechnung des Kreuzproduktes schrittweise da. (also was wie verrechnet wird)\n",
    "\n",
    "   Hilfestellung:\n",
    "\n",
    "   ```python\n",
    "   np.cross([0,1,3], [5,8,11]) # Ausgabe: [-13  15  -5]\n",
    "   ```"
   ]
  },
  {
   "cell_type": "code",
   "execution_count": null,
   "metadata": {},
   "outputs": [],
   "source": []
  },
  {
   "cell_type": "markdown",
   "metadata": {},
   "source": [
    "# Schachbrett erstellen"
   ]
  },
  {
   "cell_type": "code",
   "execution_count": 12,
   "metadata": {},
   "outputs": [
    {
     "data": {
      "text/plain": [
       "array([[ 5],\n",
       "       [ 8],\n",
       "       [11]])"
      ]
     },
     "execution_count": 12,
     "metadata": {},
     "output_type": "execute_result"
    }
   ],
   "source": [
    "np.array([5, 8, 11]).reshape(3,)"
   ]
  },
  {
   "cell_type": "code",
   "execution_count": 16,
   "metadata": {},
   "outputs": [
    {
     "data": {
      "text/plain": [
       "41"
      ]
     },
     "execution_count": 16,
     "metadata": {},
     "output_type": "execute_result"
    }
   ],
   "source": []
  },
  {
   "cell_type": "code",
   "execution_count": 49,
   "metadata": {},
   "outputs": [
    {
     "name": "stdout",
     "output_type": "stream",
     "text": [
      "[[1 0 1 0 1 0 1 0]\n",
      " [0 1 0 1 0 1 0 1]\n",
      " [1 0 1 0 1 0 1 0]\n",
      " [0 1 0 1 0 1 0 1]\n",
      " [1 0 1 0 1 0 1 0]\n",
      " [0 1 0 1 0 1 0 1]\n",
      " [1 0 1 0 1 0 1 0]\n",
      " [0 1 0 1 0 1 0 1]]\n"
     ]
    },
    {
     "data": {
      "text/plain": [
       "<matplotlib.image.AxesImage at 0x7fe211241570>"
      ]
     },
     "execution_count": 49,
     "metadata": {},
     "output_type": "execute_result"
    },
    {
     "data": {
      "image/png": "[encoded data removed]",
      "text/plain": [
       "<Figure size 640x480 with 1 Axes>"
      ]
     },
     "metadata": {},
     "output_type": "display_data"
    }
   ],
   "source": [
    "array1 = np.arange(8).reshape(1,8)%2\n",
    "array2 = np.roll(array1, 1).T\n",
    "print(np.outer(array1, array1) + np.outer(array2, array2))\n",
    "\n",
    "plt.imshow(m_erg, cmap=\"gray\")"
   ]
  }
 ],
 "metadata": {
  "kernelspec": {
   "display_name": "base",
   "language": "python",
   "name": "python3"
  },
  "language_info": {
   "codemirror_mode": {
    "name": "ipython",
    "version": 3
   },
   "file_extension": ".py",
   "mimetype": "text/x-python",
   "name": "python",
   "nbconvert_exporter": "python",
   "pygments_lexer": "ipython3",
   "version": "3.10.9"
  }
 },
 "nbformat": 4,
 "nbformat_minor": 2
}
