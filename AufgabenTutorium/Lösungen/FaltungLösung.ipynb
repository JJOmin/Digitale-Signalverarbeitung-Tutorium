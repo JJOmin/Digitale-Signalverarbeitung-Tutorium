{
 "cells": [
  {
   "cell_type": "markdown",
   "metadata": {},
   "source": [
    "<h1>Faltung</h1>"
   ]
  },
  {
   "cell_type": "code",
   "execution_count": 5,
   "metadata": {},
   "outputs": [],
   "source": [
    "import numpy as np"
   ]
  },
  {
   "cell_type": "markdown",
   "metadata": {},
   "source": [
    "Brechnet das Faltungsergebnis von [9,8,1] und [3,5,6,9]. Erstellt dazu ambesten einen Rechner der den Lösungsweg mit ausgibt."
   ]
  },
  {
   "cell_type": "code",
   "execution_count": 6,
   "metadata": {},
   "outputs": [
    {
     "name": "stdout",
     "output_type": "stream",
     "text": [
      "Faltungsergebnis: [ 27  69  97 134  78   9]\n",
      "Länge des Faltungsergebnis: 6\n",
      "Array a: [1. 8. 9. 0. 0. 0.] (Fliped)\n",
      "Array b: [[0]\n",
      " [0]\n",
      " [3]\n",
      " [5]\n",
      " [6]\n",
      " [9]]\n",
      "[9. 0. 0. 0.]\n",
      "[8. 9. 0. 0.]\n",
      "[1. 8. 9. 0.]\n",
      "[0. 1. 8. 9.]\n",
      "[0. 0. 1. 8.]\n",
      "[0. 0. 0. 1.]\n"
     ]
    }
   ],
   "source": [
    "def faltungklein(a,b):\n",
    "\n",
    "    print(\"Faltungsergebnis:\",np.convolve(np.flipud(a),b))\n",
    "    l = a.size + b.size -1 #länge des erbegnisarrays\n",
    "    c = np.arange(l)\n",
    "    helper = np.arange(0,a.size)\n",
    "    la = a.size -1\n",
    "    a = np.append(a, np.zeros(l-a.size))\n",
    "    b = np.insert(b, 0, np.zeros(l-b.size))\n",
    "    print(\"Länge des Faltungsergebnis:\",l)\n",
    "    print(\"Array a:\",a,\"(Fliped)\")\n",
    "    print(\"Array b:\",b.reshape(l,1))\n",
    "    for i in range(l):\n",
    "        print(np.roll(a, i-l)[la:])\n",
    "\n",
    "a = np.flipud(np.array([9,8,1]))\n",
    "b = np.array([3,5,6,9])\n",
    "\n",
    "faltungklein(a,b)"
   ]
  },
  {
   "cell_type": "markdown",
   "metadata": {},
   "source": [
    "Gefaltet werden die Folgen [5,2,8,9,4,2,6,8] und [2,6,8,9,0,4,2,5,6,9,6] Wie lang ist die Ausgangsfolge?"
   ]
  },
  {
   "cell_type": "code",
   "execution_count": 7,
   "metadata": {},
   "outputs": [
    {
     "name": "stdout",
     "output_type": "stream",
     "text": [
      "Faltungsergebnis: [ 10  34  68 127 144 192 155 165 206 249 229 186 207 148 118 114 108  48]\n",
      "Länge des Faltungsergebnis: 18\n",
      "Array a: [8. 6. 2. 4. 9. 8. 2. 5. 0. 0. 0. 0. 0. 0. 0. 0. 0. 0.] (Fliped)\n",
      "Array b: [[0]\n",
      " [0]\n",
      " [0]\n",
      " [0]\n",
      " [0]\n",
      " [0]\n",
      " [0]\n",
      " [2]\n",
      " [6]\n",
      " [8]\n",
      " [9]\n",
      " [0]\n",
      " [4]\n",
      " [2]\n",
      " [5]\n",
      " [6]\n",
      " [9]\n",
      " [6]]\n",
      "[5. 0. 0. 0. 0. 0. 0. 0. 0. 0. 0.]\n",
      "[2. 5. 0. 0. 0. 0. 0. 0. 0. 0. 0.]\n",
      "[8. 2. 5. 0. 0. 0. 0. 0. 0. 0. 0.]\n",
      "[9. 8. 2. 5. 0. 0. 0. 0. 0. 0. 0.]\n",
      "[4. 9. 8. 2. 5. 0. 0. 0. 0. 0. 0.]\n",
      "[2. 4. 9. 8. 2. 5. 0. 0. 0. 0. 0.]\n",
      "[6. 2. 4. 9. 8. 2. 5. 0. 0. 0. 0.]\n",
      "[8. 6. 2. 4. 9. 8. 2. 5. 0. 0. 0.]\n",
      "[0. 8. 6. 2. 4. 9. 8. 2. 5. 0. 0.]\n",
      "[0. 0. 8. 6. 2. 4. 9. 8. 2. 5. 0.]\n",
      "[0. 0. 0. 8. 6. 2. 4. 9. 8. 2. 5.]\n",
      "[0. 0. 0. 0. 8. 6. 2. 4. 9. 8. 2.]\n",
      "[0. 0. 0. 0. 0. 8. 6. 2. 4. 9. 8.]\n",
      "[0. 0. 0. 0. 0. 0. 8. 6. 2. 4. 9.]\n",
      "[0. 0. 0. 0. 0. 0. 0. 8. 6. 2. 4.]\n",
      "[0. 0. 0. 0. 0. 0. 0. 0. 8. 6. 2.]\n",
      "[0. 0. 0. 0. 0. 0. 0. 0. 0. 8. 6.]\n",
      "[0. 0. 0. 0. 0. 0. 0. 0. 0. 0. 8.]\n"
     ]
    }
   ],
   "source": [
    "a = np.flipud(np.array([5,2,8,9,4,2,6,8]))\n",
    "b = np.array([2,6,8,9,0,4,2,5,6,9,6])\n",
    "\n",
    "faltungklein(a,b)"
   ]
  },
  {
   "cell_type": "markdown",
   "metadata": {},
   "source": [
    "Ein lineares, zeitinvariantes System wird mit der Folge [4,3,3,10,9,6] angeregt und antwortet mit [4,13,20,27,30,40,36,27,20,13,10].\n",
    "\n",
    "Wie lang ist die Stoßantwort des Systems?"
   ]
  },
  {
   "cell_type": "code",
   "execution_count": 8,
   "metadata": {},
   "outputs": [
    {
     "name": "stdout",
     "output_type": "stream",
     "text": [
      "stossantwort: 6\n",
      "Ergebnis Array: [ 4. 13. 20. 27. 30. 40. 40. 40. 40. 40. 40. 40. 36. 27. 20. 13. 10.]\n"
     ]
    }
   ],
   "source": [
    "def linearConvolution(fa,Aa,w):\n",
    "    arr = np.zeros(Aa.size+fa.size*(w-1))\n",
    "    for i in range(w):\n",
    "        temp = np.insert(Aa, 0, np.zeros(fa.size*i))\n",
    "        temp2 = np.append(temp,np.zeros(fa.size*((w-1)-i)))\n",
    "        #print(temp2)\n",
    "        \n",
    "        arr = arr+temp2\n",
    "    print(\"stossantwort:\",Aa.size+1-fa.size)\n",
    "    print(\"Ergebnis Array:\",arr)\n",
    "\n",
    "#angeregte Folge\n",
    "fa = np.array([4,3,3,10,9,6])\n",
    "#antwort\n",
    "Aa = np.array([ 4,13,20,27,30,40,36,27,20,13,10])\n",
    "#anzahl der wiederholungen\n",
    "w = 2\n",
    "\n",
    "linearConvolution(fa,Aa,w)"
   ]
  },
  {
   "cell_type": "markdown",
   "metadata": {},
   "source": [
    "Berechnet das Ergebnis,wenn dieses System zweimal unmittelbar hintereinander mit der gegebenen Anregungsfolge angeregt wird!"
   ]
  },
  {
   "cell_type": "code",
   "execution_count": 9,
   "metadata": {},
   "outputs": [
    {
     "name": "stdout",
     "output_type": "stream",
     "text": [
      "stossantwort: 6\n",
      "Ergebnis Array: [ 4. 13. 20. 27. 30. 40. 40. 40. 40. 40. 40. 40. 36. 27. 20. 13. 10.]\n"
     ]
    }
   ],
   "source": [
    "#angeregte Folge\n",
    "fa = np.array([4,3,3,10,9,6])\n",
    "#antwort\n",
    "Aa = np.array([ 4,13,20,27,30,40,36,27,20,13,10])\n",
    "#anzahl der wiederholungen\n",
    "w = 2\n",
    "\n",
    "linearConvolution(fa,Aa,w)"
   ]
  }
 ],
 "metadata": {
  "kernelspec": {
   "display_name": "Python 3",
   "language": "python",
   "name": "python3"
  },
  "language_info": {
   "codemirror_mode": {
    "name": "ipython",
    "version": 3
   },
   "file_extension": ".py",
   "mimetype": "text/x-python",
   "name": "python",
   "nbconvert_exporter": "python",
   "pygments_lexer": "ipython3",
   "version": "3.11.2"
  }
 },
 "nbformat": 4,
 "nbformat_minor": 2
}
