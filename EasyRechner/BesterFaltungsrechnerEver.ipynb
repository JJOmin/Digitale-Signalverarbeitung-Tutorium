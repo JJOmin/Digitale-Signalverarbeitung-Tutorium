{
 "cells": [
  {
   "cell_type": "code",
   "execution_count": 3,
   "metadata": {},
   "outputs": [],
   "source": [
    "#Faltungsrechner\n",
    "import numpy as np\n",
    "def lineareFaltungRechner(a,b):\n",
    "    faltung = np.convolve(np.flipud(a),b)\n",
    "    print(\"Faltungsergebnis:\", np.flipud(a),\"*\",b,\"=\",faltung)\n",
    "\n",
    "    #Rechnungsdarstellung als Matrix\n",
    "    l = a.size + b.size -1 #länge des erbegnisarrays\n",
    "    a = np.append(a, np.zeros(l-a.size))\n",
    "    b = np.insert(b, 0, np.zeros(l-b.size))\n",
    "    print(\"\")\n",
    "    print(\"Rechnungsdarstellung: a * b\")\n",
    "    for i in range(l):\n",
    "        if (i == 0):\n",
    "            temp = \"  =\"\n",
    "            for g in range(len(a)):\n",
    "                if (a[g] == 0 or b[g] == 0):\n",
    "                    pass\n",
    "                else:\n",
    "                    if (temp == \"  =\"):\n",
    "                        str1 = a[g],\"*\",b[g]\n",
    "                        temp = \" = \"+str(str1)\n",
    "                    else:\n",
    "                        str1 = a[g],\"*\",b[g]\n",
    "                        temp = temp+\"+\"+str(str1)\n",
    "            print(a, \" [\",b[i],\"] = [\",faltung[i],\"]\", temp)\n",
    "            #print(temp)\n",
    "        else:\n",
    "            a = np.insert(a, 0, np.zeros(1))\n",
    "            a = a[:-1]\n",
    "            temp = \"  =\"\n",
    "            for g in range(len(a)):\n",
    "                if (a[g] == 0 or b[g] == 0):\n",
    "                    pass\n",
    "                else:\n",
    "                    if (temp == \"  =\"):\n",
    "                        str1 = a[g],\"*\",b[g]\n",
    "                        temp = \" = \"+str(str1)\n",
    "                    else:\n",
    "                        str1 = a[g],\"*\",b[g]\n",
    "                        temp = temp+\"+\"+str(str1)\n",
    "            \n",
    "            print(a, \" [\",b[i],\"] = [\",faltung[i],\"]\", temp)"
   ]
  },
  {
   "cell_type": "markdown",
   "metadata": {},
   "source": [
    "# Beispiel"
   ]
  },
  {
   "cell_type": "code",
   "execution_count": 7,
   "metadata": {},
   "outputs": [
    {
     "name": "stdout",
     "output_type": "stream",
     "text": [
      "Faltungsergebnis: [1 2 3] * [3 3 3 3] = [ 3  9 18 18 15  9]\n",
      "\n",
      "Rechnungsdarstellung: a * b\n",
      "[3. 2. 1. 0. 0. 0.]  [ 0 ] = [ 3 ]  = (1.0, '*', 3)\n",
      "[0. 3. 2. 1. 0. 0.]  [ 0 ] = [ 9 ]  = (2.0, '*', 3)+(1.0, '*', 3)\n",
      "[0. 0. 3. 2. 1. 0.]  [ 3 ] = [ 18 ]  = (3.0, '*', 3)+(2.0, '*', 3)+(1.0, '*', 3)\n",
      "[0. 0. 0. 3. 2. 1.]  [ 3 ] = [ 18 ]  = (3.0, '*', 3)+(2.0, '*', 3)+(1.0, '*', 3)\n",
      "[0. 0. 0. 0. 3. 2.]  [ 3 ] = [ 15 ]  = (3.0, '*', 3)+(2.0, '*', 3)\n",
      "[0. 0. 0. 0. 0. 3.]  [ 3 ] = [ 9 ]  = (3.0, '*', 3)\n"
     ]
    }
   ],
   "source": [
    "x_1 = np.array([3,2,1])\n",
    "x_2 = np.array([3,3,3,3])\n",
    "lineareFaltungRechner(x_1,x_2)"
   ]
  }
 ],
 "metadata": {
  "kernelspec": {
   "display_name": "base",
   "language": "python",
   "name": "python3"
  },
  "language_info": {
   "codemirror_mode": {
    "name": "ipython",
    "version": 3
   },
   "file_extension": ".py",
   "mimetype": "text/x-python",
   "name": "python",
   "nbconvert_exporter": "python",
   "pygments_lexer": "ipython3",
   "version": "3.10.9"
  }
 },
 "nbformat": 4,
 "nbformat_minor": 2
}
