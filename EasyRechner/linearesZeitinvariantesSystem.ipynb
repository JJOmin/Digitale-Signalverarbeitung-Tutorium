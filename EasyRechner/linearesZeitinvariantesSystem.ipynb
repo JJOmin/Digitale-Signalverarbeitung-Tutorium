{
 "cells": [
  {
   "cell_type": "code",
   "execution_count": 1,
   "metadata": {},
   "outputs": [],
   "source": [
    "import numpy as np\n",
    "\n",
    "def linearesZeitinvariantesSystem(fa,Aa,w):\n",
    "    #Darstellung\n",
    "    arr = np.zeros(Aa.size+fa.size*(w-1))\n",
    "    for i in range(w):\n",
    "        temp = np.insert(Aa, 0, np.zeros(fa.size*i))\n",
    "        temp2 = np.append(temp,np.zeros(fa.size*((w-1)-i)))\n",
    "        arr = arr+temp2\n",
    "\n",
    "    print(\"Länge des Stoß:\",Aa.size+1-fa.size)\n",
    "    print(\"Ergebnis:\",arr)"
   ]
  },
  {
   "cell_type": "markdown",
   "metadata": {},
   "source": [
    "# Beispiel"
   ]
  },
  {
   "cell_type": "code",
   "execution_count": 2,
   "metadata": {},
   "outputs": [
    {
     "name": "stdout",
     "output_type": "stream",
     "text": [
      "Länge des Stoß: 6\n",
      "Ergebnis: [ 4. 13. 20. 27. 30. 40. 40. 40. 40. 40. 40. 40. 36. 27. 20. 13. 10.]\n"
     ]
    }
   ],
   "source": [
    "fa = np.array([4,3,3,10,9,6])  #angeregte Folge\n",
    "Aa = np.array([4,13,20,27,30,40,36,27,20,13,10])  #Stoßantwort\n",
    "w = 2  #anzahl der wiederholungen\n",
    "\n",
    "linearesZeitinvariantesSystem(fa,Aa,w)"
   ]
  }
 ],
 "metadata": {
  "kernelspec": {
   "display_name": "base",
   "language": "python",
   "name": "python3"
  },
  "language_info": {
   "codemirror_mode": {
    "name": "ipython",
    "version": 3
   },
   "file_extension": ".py",
   "mimetype": "text/x-python",
   "name": "python",
   "nbconvert_exporter": "python",
   "pygments_lexer": "ipython3",
   "version": "3.10.9"
  }
 },
 "nbformat": 4,
 "nbformat_minor": 2
}
